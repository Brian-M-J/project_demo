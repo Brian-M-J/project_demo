{
 "cells": [
  {
   "cell_type": "markdown",
   "id": "4b5547b1-8154-40a0-90e7-e36e7ecd4e61",
   "metadata": {},
   "source": [
    "# Tool Demo for self driving car project\n",
    "## The environment for the self driving car agent will be [HighwayEnv](https://highway-env.farama.org/)\n",
    "\n",
    "HighwayEnv gathers a collection of environments for decision-making in Autonomous Driving. It allows easy experimentation with RL models which then run in the environments.\n",
    "\n",
    "## The following is a demonstration of how the environment for the agent will look"
   ]
  },
  {
   "cell_type": "code",
   "execution_count": 1,
   "id": "01b783ad-f69a-40df-905e-8f14b69b5a0e",
   "metadata": {},
   "outputs": [
    {
     "name": "stderr",
     "output_type": "stream",
     "text": [
      "C:\\Users\\nixon\\Desktop\\Brian\\4th_Sem\\ideation\\project_demo\\venv\\Lib\\site-packages\\gymnasium\\core.py:297: UserWarning: \u001b[33mWARN: env.action_type to get variables from other wrappers is deprecated and will be removed in v1.0, to get this variable you can do `env.unwrapped.action_type` for environment variables or `env.get_attr('action_type')` that will search the reminding wrappers.\u001b[0m\n",
      "  logger.warn(\n",
      "C:\\Users\\nixon\\Desktop\\Brian\\4th_Sem\\ideation\\project_demo\\venv\\Lib\\site-packages\\gymnasium\\core.py:297: UserWarning: \u001b[33mWARN: env.action_type to get variables from other wrappers is deprecated and will be removed in v1.0, to get this variable you can do `env.unwrapped.action_type` for environment variables or `env.get_attr('action_type')` that will search the reminding wrappers.\u001b[0m\n",
      "  logger.warn(\n",
      "C:\\Users\\nixon\\Desktop\\Brian\\4th_Sem\\ideation\\project_demo\\venv\\Lib\\site-packages\\gymnasium\\core.py:297: UserWarning: \u001b[33mWARN: env.action_type to get variables from other wrappers is deprecated and will be removed in v1.0, to get this variable you can do `env.unwrapped.action_type` for environment variables or `env.get_attr('action_type')` that will search the reminding wrappers.\u001b[0m\n",
      "  logger.warn(\n"
     ]
    },
    {
     "data": {
      "image/png": "[encoded data removed]",
      "text/plain": [
       "<Figure size 640x480 with 1 Axes>"
      ]
     },
     "metadata": {},
     "output_type": "display_data"
    }
   ],
   "source": [
    "import gymnasium as gym\n",
    "from matplotlib import pyplot as plt\n",
    "%matplotlib inline\n",
    "\n",
    "env = gym.make('highway-v0', render_mode='rgb_array')\n",
    "env.reset()\n",
    "for _ in range(3):\n",
    "    action = env.action_type.actions_indexes[\"IDLE\"]\n",
    "    obs, reward, done, truncated, info = env.step(action)\n",
    "    env.render()\n",
    "\n",
    "plt.imshow(env.render())\n",
    "plt.show()"
   ]
  },
  {
   "cell_type": "markdown",
   "id": "4b34d4b6-54a1-4d77-82ad-771613facfc1",
   "metadata": {},
   "source": [
    "## This is an example of a trained agent driving on the road"
   ]
  },
  {
   "cell_type": "markdown",
   "id": "0d4d4f2d-48d6-46fe-bd36-b11a7f80dd39",
   "metadata": {},
   "source": [
    "<p align=\"center\">\n",
    "    <img src=\"https://raw.githubusercontent.com/eleurent/highway-env/master/../gh-media/docs/media/highway-env.gif?raw=true\"><br/>\n",
    "</p>"
   ]
  },
  {
   "cell_type": "markdown",
   "id": "45facf40-9995-49c0-afdc-22ef85a5c3e7",
   "metadata": {},
   "source": [
    "## To create the Reinforcement Learning model, we will use the [TF-Agents library](https://www.tensorflow.org/agents) made by Google.\n",
    "\n",
    "Agents is a library for reinforcement learning in TensorFlow. it makes designing, implementing and testing new RL algorithms easier, by providing well tested modular components that can be modified and extended. It enables fast code iteration, with good test integration and benchmarking.\n",
    "\n",
    "## The following is a code snippet for creating an RL model using the TF-Agents library:"
   ]
  },
  {
   "cell_type": "code",
   "execution_count": null,
   "id": "6f7a76ce-e0db-4d50-bcee-fdec625ae0c9",
   "metadata": {},
   "outputs": [],
   "source": [
    "optimizer = tf.keras.optimizers.Adam(learning_rate=learning_rate)\n",
    "\n",
    "train_step_counter = tf.Variable(0)\n",
    "\n",
    "agent = dqn_agent.DqnAgent(\n",
    "    train_env.time_step_spec(),\n",
    "    train_env.action_spec(),\n",
    "    q_network=q_net,\n",
    "    optimizer=optimizer,\n",
    "    td_errors_loss_fn=common.element_wise_squared_loss,\n",
    "    train_step_counter=train_step_counter)\n",
    "\n",
    "agent.initialize()"
   ]
  }
 ],
 "metadata": {
  "kernelspec": {
   "display_name": "venv",
   "language": "python",
   "name": "venv"
  },
  "language_info": {
   "codemirror_mode": {
    "name": "ipython",
    "version": 3
   },
   "file_extension": ".py",
   "mimetype": "text/x-python",
   "name": "python",
   "nbconvert_exporter": "python",
   "pygments_lexer": "ipython3",
   "version": "3.11.4"
  }
 },
 "nbformat": 4,
 "nbformat_minor": 5
}
